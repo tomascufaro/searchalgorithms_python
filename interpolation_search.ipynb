{
 "cells": [
  {
   "cell_type": "markdown",
   "metadata": {},
   "source": [
    "[![Open In Colab](https://colab.research.google.com/assets/colab-badge.svg)](https://colab.research.google.com/github/tomascufaro/searchalgorithms_python/blob/main/interpolatio_search.ipynb)\n"
   ]
  },
  {
   "cell_type": "markdown",
   "metadata": {},
   "source": [
    "Se recomienda aplicar este algoritmo:\n",
    "\n",
    "\n",
    "\n",
    "cuando acceder al elemento buscado es muy costoso: el acceso a un elemento que se encuentra en la memoria es algo muy rápido. Pero, cuando se debe acceder a un elemento que está almacenado en un disco, el acceso se vuelve una tarea costosa, que demanda tiempo y recursos; y\n",
    "\n",
    "\n",
    "\n",
    "cuando los elementos están ordenados según una distribución uniforme."
   ]
  },
  {
   "cell_type": "markdown",
   "metadata": {},
   "source": [
    "multiple interpolation search algorithm can be used: \n",
    "let's see how linear interpolation would give us the position of a particular element x \n"
   ]
  },
  {
   "cell_type": "markdown",
   "metadata": {},
   "source": [
    "The formula for pos can be derived as follows.\n",
    "\n",
    "Let's assume that the elements of the array are linearly distributed. \n",
    "\n",
    "General equation of line : y = m*x + c.\n",
    "y is the value in the array and x is its index.\n",
    "\n",
    "Now putting value of lo,hi and x in the equation\n",
    "\n",
    "- arr[hi] = m*hi+c ----(1)\n",
    "- arr[lo] = m*lo+c ----(2)\n",
    "- x = m*pos + c     ----(3)\n",
    "\n",
    "- m = (arr[hi] - arr[lo] )/ (hi - lo)\n",
    "\n",
    "subtracting eqxn (2) from (3)\n",
    "\n",
    "- x - arr[lo] = m * (pos - lo)\n",
    "- lo + (x - arr[lo])/m = pos\n",
    "- pos = lo + (x - arr[lo]) *(hi - lo)/(arr[hi] - arr[lo])"
   ]
  },
  {
   "cell_type": "markdown",
   "metadata": {},
   "source": [
    "Algorithm \n",
    "The rest of the Interpolation algorithm is the same except for the above partition logic. \n",
    "\n",
    "- Step1: In a loop, calculate the value of “pos” using the probe position formula. \n",
    "- Step2: If it is a match, return the index of the item, and exit. \n",
    "- Step3: If the item is less than arr[pos], calculate the probe position of the left  sub-array. Otherwise, calculate the same in the right sub-array.\n",
    "- Step4: Repeat until a match is found or the sub-array reduces to zero."
   ]
  },
  {
   "cell_type": "code",
   "execution_count": null,
   "metadata": {},
   "outputs": [],
   "source": [
    "# Python3 program to implement\n",
    "# interpolation search\n",
    "# with recursion\n",
    "\n",
    "# If x is present in arr[0..n-1], then\n",
    "# returns index of it, else returns -1.\n",
    "\n",
    "\n",
    "def interpolationSearch(arr, lo, hi, x):\n",
    "\n",
    "\t# Since array is sorted, an element present\n",
    "\t# in array must be in range defined by corner\n",
    "\tif (lo <= hi and x >= arr[lo] and x <= arr[hi]):\n",
    "\n",
    "\t\t# Probing the position with keeping\n",
    "\t\t# uniform distribution in mind.\n",
    "\t\tpos = lo + ((hi - lo) // (arr[hi] - arr[lo]) *\n",
    "\t\t\t\t\t(x - arr[lo]))\n",
    "\n",
    "\t\t# Condition of target found\n",
    "\t\tif arr[pos] == x:\n",
    "\t\t\treturn pos\n",
    "\n",
    "\t\t# If x is larger, x is in right subarray\n",
    "\t\tif arr[pos] < x:\n",
    "\t\t\treturn interpolationSearch(arr, pos + 1,\n",
    "\t\t\t\t\t\t\t\t\thi, x)\n",
    "\n",
    "\t\t# If x is smaller, x is in left subarray\n",
    "\t\tif arr[pos] > x:\n",
    "\t\t\treturn interpolationSearch(arr, lo,\n",
    "\t\t\t\t\t\t\t\t\tpos - 1, x)\n",
    "\treturn -1\n",
    "\n",
    "# Driver code\n",
    "\n",
    "\n",
    "# Array of items in which\n",
    "# search will be conducted\n",
    "arr = [10, 12, 13, 16, 18, 19, 20,\n",
    "\t21, 22, 23, 24, 33, 35, 42, 47]\n",
    "n = len(arr)\n",
    "\n",
    "# Element to be searched\n",
    "x = 18\n",
    "index = interpolationSearch(arr, 0, n - 1, x)\n",
    "\n",
    "if index != -1:\n",
    "\tprint(\"Element found at index\", index)\n",
    "else:\n",
    "\tprint(\"Element not found\")\n",
    "\n",
    "# This code is contributed by Hardik Jain\n"
   ]
  },
  {
   "cell_type": "markdown",
   "metadata": {},
   "source": [
    "Time Complexity: O(log2(log2 n)) for the average case, and O(n) for the worst case \n"
   ]
  },
  {
   "cell_type": "markdown",
   "metadata": {},
   "source": [
    "Another approach "
   ]
  },
  {
   "cell_type": "markdown",
   "metadata": {},
   "source": [
    "This is the iteration approach for the interpolation search.\n",
    "\n",
    "Step1: In a loop, calculate the value of “pos” using the probe position formula. \n",
    "Step2: If it is a match, return the index of the item, and exit. \n",
    "Step3: If the item is less than arr[pos], calculate the probe position of the left sub-array. Otherwise, calculate the same in the right sub-array. \n",
    "Step4: Repeat until a match is found or the sub-array reduces to zero.\n",
    "Below is the implementation of the algorithm. "
   ]
  },
  {
   "cell_type": "code",
   "execution_count": null,
   "metadata": {},
   "outputs": [],
   "source": [
    "# Python equivalent of above C++ code\n",
    "# Python program to implement interpolation search by using iteration approach\n",
    "def interpolationSearch(arr, n, x):\n",
    "\n",
    "\t# Find indexes of two corners\n",
    "\tlow = 0\n",
    "\thigh = (n - 1)\n",
    "\n",
    "\t# Since array is sorted, an element present\n",
    "\t# in array must be in range defined by corner\n",
    "\twhile low <= high and x >= arr[low] and x <= arr[high]:\n",
    "\t\tif low == high:\n",
    "\t\t\tif arr[low] == x:\n",
    "\t\t\t\treturn low;\n",
    "\t\t\treturn -1;\n",
    "\n",
    "\t\t# Probing the position with keeping\n",
    "\t\t# uniform distribution in mind.\n",
    "\t\tpos = int(low + (((float(high - low)/( arr[high] - arr[low])) * (x - arr[low]))))\n",
    "\n",
    "\t\t# Condition of target found\n",
    "\t\tif arr[pos] == x:\n",
    "\t\t\treturn pos\n",
    "\n",
    "\t\t# If x is larger, x is in upper part\n",
    "\t\tif arr[pos] < x:\n",
    "\t\t\tlow = pos + 1;\n",
    "\n",
    "\t\t# If x is smaller, x is in lower part\n",
    "\t\telse:\n",
    "\t\t\thigh = pos - 1;\n",
    "\t\n",
    "\treturn -1\n",
    "\n",
    "# Main function\n",
    "if __name__ == \"__main__\":\n",
    "\t# Array of items on whighch search will\n",
    "\t# be conducted.\n",
    "\tarr = [10, 12, 13, 16, 18, 19, 20, 21,\n",
    "\t\t22, 23, 24, 33, 35, 42, 47]\n",
    "\tn = len(arr)\n",
    "\n",
    "\tx = 18 # Element to be searched\n",
    "\tindex = interpolationSearch(arr, n, x)\n",
    "\n",
    "\t# If element was found\n",
    "\tif index != -1:\n",
    "\t\tprint (\"Element found at index\",index)\n",
    "\telse:\n",
    "\t\tprint (\"Element not found\")\n"
   ]
  },
  {
   "cell_type": "markdown",
   "metadata": {},
   "source": [
    "Time Complexity: O(log2(log2 n)) for the average case, and O(n) for the worst case \n"
   ]
  },
  {
   "cell_type": "markdown",
   "metadata": {},
   "source": []
  }
 ],
 "metadata": {
  "kernelspec": {
   "display_name": "Python 3.9.6 64-bit",
   "language": "python",
   "name": "python3"
  },
  "language_info": {
   "name": "python",
   "version": "3.9.6"
  },
  "orig_nbformat": 4,
  "vscode": {
   "interpreter": {
    "hash": "31f2aee4e71d21fbe5cf8b01ff0e069b9275f58929596ceb00d14d90e3e16cd6"
   }
  }
 },
 "nbformat": 4,
 "nbformat_minor": 2
}
